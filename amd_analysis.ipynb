{
 "cells": [
  {
   "cell_type": "code",
   "execution_count": 20,
   "metadata": {},
   "outputs": [],
   "source": [
    "import numpy\n",
    "import matplotlib.pyplot as plt\n",
    "from pandas import read_csv\n",
    "import math\n",
    "from keras.models import Sequential\n",
    "from keras.layers import Dense\n",
    "from keras.layers import LSTM\n",
    "from sklearn.preprocessing import MinMaxScaler\n",
    "from sklearn.metrics import mean_squared_error\n",
    "import os"
   ]
  },
  {
   "cell_type": "code",
   "execution_count": 21,
   "metadata": {},
   "outputs": [],
   "source": [
    "def create_dataset(dataset, look_back=1):\n",
    "    dataX, dataY = [], []\n",
    "    for i in range(len(dataset)-look_back-1):\n",
    "        a = dataset[i:(i+look_back), 0]\n",
    "        dataX.append(a)\n",
    "        dataY.append(dataset[i + look_back, 0])\n",
    "    return numpy.array(dataX), numpy.array(dataY)"
   ]
  },
  {
   "cell_type": "code",
   "execution_count": 22,
   "metadata": {},
   "outputs": [
    {
     "data": {
      "text/plain": [
       "array([['5/7/83', 15.94, 15.94, 15.47, 15.78, 489200],\n",
       "       ['6/7/83', 15.72, 15.94, 15.66, 15.91, 348000],\n",
       "       ['7/7/83', 15.91, 16.19, 15.78, 16.06, 287600],\n",
       "       ...,\n",
       "       ['5/9/18', 11.65, 11.98, 11.57, 11.95, 49500430],\n",
       "       ['7/9/18', 16.73, 16.84, 16.17, 16.61, 58455450],\n",
       "       ['8/9/18', 19.58, 19.71, 19.08, 19.1, 46385180]], dtype=object)"
      ]
     },
     "execution_count": 22,
     "metadata": {},
     "output_type": "execute_result"
    }
   ],
   "source": [
    "url=r'/Users/cherry/Desktop/all/'\n",
    "amd_data=os.path.join(url,'amd.us.fmt.editedrows.csv')\n",
    "dataframe = read_csv(amd_data, engine='python')\n",
    "dataset = dataframe.values\n",
    "dataset"
   ]
  },
  {
   "cell_type": "code",
   "execution_count": 23,
   "metadata": {},
   "outputs": [
    {
     "name": "stderr",
     "output_type": "stream",
     "text": [
      "/Users/cherry/anaconda3/lib/python3.6/site-packages/sklearn/utils/validation.py:475: DataConversionWarning: Data with input dtype object was converted to float64 by MinMaxScaler.\n",
      "  warnings.warn(msg, DataConversionWarning)\n"
     ]
    }
   ],
   "source": [
    "scaler = MinMaxScaler(feature_range=(0, 1))\n",
    "dataset = scaler.fit_transform(dataset[:,[1]])"
   ]
  },
  {
   "cell_type": "code",
   "execution_count": 7,
   "metadata": {},
   "outputs": [
    {
     "data": {
      "text/plain": [
       "array([[0.31555751],\n",
       "       [0.31070956],\n",
       "       [0.31489643],\n",
       "       ...,\n",
       "       [0.22102248],\n",
       "       [0.33296606],\n",
       "       [0.39576906]])"
      ]
     },
     "execution_count": 7,
     "metadata": {},
     "output_type": "execute_result"
    }
   ],
   "source": [
    "dataset"
   ]
  },
  {
   "cell_type": "code",
   "execution_count": 32,
   "metadata": {},
   "outputs": [],
   "source": [
    "train_size = int(len(dataset) * 0.8)\n",
    "test_size = len(dataset) - train_size\n",
    "train, test = dataset[0:train_size,:], dataset[train_size:len(dataset),:]"
   ]
  },
  {
   "cell_type": "code",
   "execution_count": 33,
   "metadata": {},
   "outputs": [],
   "source": [
    "look_back = 9\n",
    "trainX, trainY = create_dataset(train, look_back)\n",
    "testX, testY = create_dataset(test, look_back)"
   ]
  },
  {
   "cell_type": "code",
   "execution_count": 34,
   "metadata": {},
   "outputs": [],
   "source": [
    "trainX = numpy.reshape(trainX, (trainX.shape[0], trainX.shape[1], 1))\n",
    "testX = numpy.reshape(testX, (testX.shape[0], testX.shape[1], 1))"
   ]
  },
  {
   "cell_type": "code",
   "execution_count": 35,
   "metadata": {
    "scrolled": true
   },
   "outputs": [
    {
     "name": "stdout",
     "output_type": "stream",
     "text": [
      "Epoch 1/10\n",
      " - 6s - loss: 0.0155\n",
      "Epoch 2/10\n",
      " - 5s - loss: 0.0021\n",
      "Epoch 3/10\n",
      " - 5s - loss: 9.6339e-04\n",
      "Epoch 4/10\n",
      " - 5s - loss: 7.7851e-04\n",
      "Epoch 5/10\n",
      " - 6s - loss: 7.2582e-04\n",
      "Epoch 6/10\n",
      " - 5s - loss: 6.8612e-04\n",
      "Epoch 7/10\n",
      " - 5s - loss: 6.4634e-04\n",
      "Epoch 8/10\n",
      " - 5s - loss: 6.1434e-04\n",
      "Epoch 9/10\n",
      " - 6s - loss: 5.9174e-04\n",
      "Epoch 10/10\n",
      " - 7s - loss: 5.6580e-04\n",
      "Epoch 1/10\n",
      " - 5s - loss: 5.2882e-04\n",
      "Epoch 2/10\n",
      " - 7s - loss: 4.8677e-04\n",
      "Epoch 3/10\n",
      " - 6s - loss: 4.4747e-04\n",
      "Epoch 4/10\n",
      " - 7s - loss: 4.1360e-04\n",
      "Epoch 5/10\n",
      " - 6s - loss: 3.8579e-04\n",
      "Epoch 6/10\n",
      " - 5s - loss: 3.6364e-04\n",
      "Epoch 7/10\n",
      " - 5s - loss: 3.4652e-04\n",
      "Epoch 8/10\n",
      " - 5s - loss: 3.3297e-04\n",
      "Epoch 9/10\n",
      " - 6s - loss: 3.2120e-04\n",
      "Epoch 10/10\n",
      " - 6s - loss: 3.0997e-04\n",
      "Epoch 1/10\n",
      " - 6s - loss: 2.9908e-04\n",
      "Epoch 2/10\n",
      " - 5s - loss: 2.8892e-04\n",
      "Epoch 3/10\n",
      " - 6s - loss: 2.7969e-04\n",
      "Epoch 4/10\n",
      " - 5s - loss: 2.7128e-04\n",
      "Epoch 5/10\n",
      " - 6s - loss: 2.6389e-04\n",
      "Epoch 6/10\n",
      " - 5s - loss: 2.5747e-04\n",
      "Epoch 7/10\n",
      " - 7s - loss: 2.5183e-04\n",
      "Epoch 8/10\n",
      " - 5s - loss: 2.4698e-04\n",
      "Epoch 9/10\n",
      " - 7s - loss: 2.4283e-04\n",
      "Epoch 10/10\n",
      " - 6s - loss: 2.3941e-04\n",
      "Epoch 1/10\n",
      " - 5s - loss: 2.3629e-04\n",
      "Epoch 2/10\n",
      " - 7s - loss: 2.3368e-04\n",
      "Epoch 3/10\n",
      " - 7s - loss: 2.3166e-04\n",
      "Epoch 4/10\n",
      " - 6s - loss: 2.3014e-04\n",
      "Epoch 5/10\n",
      " - 6s - loss: 2.2865e-04\n",
      "Epoch 6/10\n",
      " - 5s - loss: 2.2693e-04\n",
      "Epoch 7/10\n",
      " - 6s - loss: 2.2552e-04\n",
      "Epoch 8/10\n",
      " - 6s - loss: 2.2434e-04\n",
      "Epoch 9/10\n",
      " - 6s - loss: 2.2314e-04\n",
      "Epoch 10/10\n",
      " - 5s - loss: 2.2158e-04\n",
      "Epoch 1/10\n",
      " - 5s - loss: 2.2085e-04\n",
      "Epoch 2/10\n",
      " - 6s - loss: 2.2014e-04\n",
      "Epoch 3/10\n",
      " - 6s - loss: 2.1920e-04\n",
      "Epoch 4/10\n",
      " - 5s - loss: 2.1827e-04\n",
      "Epoch 5/10\n",
      " - 6s - loss: 2.1773e-04\n",
      "Epoch 6/10\n",
      " - 5s - loss: 2.1723e-04\n",
      "Epoch 7/10\n",
      " - 6s - loss: 2.1660e-04\n",
      "Epoch 8/10\n",
      " - 5s - loss: 2.1585e-04\n",
      "Epoch 9/10\n",
      " - 5s - loss: 2.1527e-04\n",
      "Epoch 10/10\n",
      " - 6s - loss: 2.1457e-04\n",
      "Epoch 1/10\n",
      " - 5s - loss: 2.1397e-04\n",
      "Epoch 2/10\n",
      " - 5s - loss: 2.1353e-04\n",
      "Epoch 3/10\n",
      " - 5s - loss: 2.1304e-04\n",
      "Epoch 4/10\n",
      " - 5s - loss: 2.1257e-04\n",
      "Epoch 5/10\n",
      " - 5s - loss: 2.1205e-04\n",
      "Epoch 6/10\n",
      " - 5s - loss: 2.1153e-04\n",
      "Epoch 7/10\n",
      " - 5s - loss: 2.1113e-04\n",
      "Epoch 8/10\n",
      " - 5s - loss: 2.1064e-04\n",
      "Epoch 9/10\n",
      " - 5s - loss: 2.1008e-04\n",
      "Epoch 10/10\n",
      " - 5s - loss: 2.0966e-04\n",
      "Epoch 1/10\n",
      " - 5s - loss: 2.0930e-04\n",
      "Epoch 2/10\n",
      " - 5s - loss: 2.0892e-04\n",
      "Epoch 3/10\n",
      " - 5s - loss: 2.0844e-04\n",
      "Epoch 4/10\n",
      " - 5s - loss: 2.0799e-04\n",
      "Epoch 5/10\n",
      " - 5s - loss: 2.0768e-04\n",
      "Epoch 6/10\n",
      " - 5s - loss: 2.0729e-04\n",
      "Epoch 7/10\n",
      " - 5s - loss: 2.0687e-04\n",
      "Epoch 8/10\n",
      " - 5s - loss: 2.0653e-04\n",
      "Epoch 9/10\n",
      " - 6s - loss: 2.0616e-04\n",
      "Epoch 10/10\n",
      " - 5s - loss: 2.0576e-04\n",
      "Epoch 1/10\n",
      " - 5s - loss: 2.0542e-04\n",
      "Epoch 2/10\n",
      " - 5s - loss: 2.0511e-04\n",
      "Epoch 3/10\n",
      " - 5s - loss: 2.0470e-04\n",
      "Epoch 4/10\n",
      " - 6s - loss: 2.0428e-04\n",
      "Epoch 5/10\n",
      " - 5s - loss: 2.0406e-04\n",
      "Epoch 6/10\n",
      " - 5s - loss: 2.0364e-04\n",
      "Epoch 7/10\n",
      " - 5s - loss: 2.0343e-04\n",
      "Epoch 8/10\n",
      " - 6s - loss: 2.0314e-04\n",
      "Epoch 9/10\n",
      " - 5s - loss: 2.0269e-04\n",
      "Epoch 10/10\n",
      " - 5s - loss: 2.0234e-04\n",
      "Epoch 1/10\n",
      " - 5s - loss: 2.0208e-04\n",
      "Epoch 2/10\n",
      " - 5s - loss: 2.0171e-04\n",
      "Epoch 3/10\n",
      " - 5s - loss: 2.0143e-04\n",
      "Epoch 4/10\n",
      " - 5s - loss: 2.0123e-04\n",
      "Epoch 5/10\n",
      " - 5s - loss: 2.0083e-04\n",
      "Epoch 6/10\n",
      " - 5s - loss: 2.0055e-04\n",
      "Epoch 7/10\n",
      " - 5s - loss: 2.0030e-04\n",
      "Epoch 8/10\n",
      " - 5s - loss: 1.9994e-04\n",
      "Epoch 9/10\n",
      " - 5s - loss: 1.9970e-04\n",
      "Epoch 10/10\n",
      " - 5s - loss: 1.9951e-04\n",
      "Epoch 1/10\n",
      " - 5s - loss: 1.9910e-04\n",
      "Epoch 2/10\n",
      " - 5s - loss: 1.9886e-04\n",
      "Epoch 3/10\n",
      " - 5s - loss: 1.9857e-04\n",
      "Epoch 4/10\n",
      " - 5s - loss: 1.9836e-04\n",
      "Epoch 5/10\n",
      " - 5s - loss: 1.9795e-04\n",
      "Epoch 6/10\n",
      " - 5s - loss: 1.9785e-04\n",
      "Epoch 7/10\n",
      " - 5s - loss: 1.9742e-04\n",
      "Epoch 8/10\n",
      " - 5s - loss: 1.9735e-04\n",
      "Epoch 9/10\n",
      " - 5s - loss: 1.9694e-04\n",
      "Epoch 10/10\n",
      " - 5s - loss: 1.9679e-04\n"
     ]
    }
   ],
   "source": [
    "batch_size = 10\n",
    "model2 = Sequential()\n",
    "model2.add(LSTM(4, batch_input_shape=(batch_size, look_back, 1), stateful=True))\n",
    "model2.add(Dense(1))\n",
    "model2.compile(loss='mean_squared_error', optimizer='adam')\n",
    "for i in range(10):\n",
    "    model2.fit(trainX, trainY, epochs=10, batch_size=batch_size, verbose=2, shuffle=False)\n"
   ]
  },
  {
   "cell_type": "code",
   "execution_count": 36,
   "metadata": {},
   "outputs": [
    {
     "name": "stdout",
     "output_type": "stream",
     "text": [
      "Train Score: 0.02 RMSE\n",
      "Test Score: 0.07 RMSE\n"
     ]
    }
   ],
   "source": [
    "trainPredict = model2.predict(trainX, batch_size=batch_size)\n",
    "trainScore = math.sqrt(mean_squared_error(trainY, trainPredict))\n",
    "print('Train Score: %.2f RMSE' % (trainScore))\n",
    "model2.reset_states()\n",
    "\n",
    "testPredict = model2.predict(testX, batch_size=batch_size)\n",
    "testScore = math.sqrt(mean_squared_error(testY, testPredict))\n",
    "print('Test Score: %.2f RMSE' % (testScore))"
   ]
  },
  {
   "cell_type": "code",
   "execution_count": 37,
   "metadata": {},
   "outputs": [],
   "source": [
    "trainPredict = scaler.inverse_transform(trainPredict)\n",
    "trainY = scaler.inverse_transform([trainY])\n",
    "testPredict = scaler.inverse_transform(testPredict)\n",
    "testY = scaler.inverse_transform([testY])"
   ]
  },
  {
   "cell_type": "code",
   "execution_count": 38,
   "metadata": {},
   "outputs": [],
   "source": [
    "testY=testY.reshape(-1,1)\n"
   ]
  },
  {
   "cell_type": "code",
   "execution_count": 39,
   "metadata": {},
   "outputs": [
    {
     "name": "stdout",
     "output_type": "stream",
     "text": [
      "Test Score: 3.36 RMSE\n"
     ]
    }
   ],
   "source": [
    "testScore = math.sqrt(mean_squared_error(testY, testPredict))\n",
    "print('Test Score: %.2f RMSE' % (testScore))"
   ]
  },
  {
   "cell_type": "code",
   "execution_count": 40,
   "metadata": {},
   "outputs": [
    {
     "name": "stdout",
     "output_type": "stream",
     "text": [
      "Train Score: 0.74 RMSE\n"
     ]
    }
   ],
   "source": [
    "trainY=trainY.reshape(-1,1)\n",
    "trainScore = math.sqrt(mean_squared_error(trainY, trainPredict))\n",
    "print('Train Score: %.2f RMSE' % (trainScore))"
   ]
  },
  {
   "cell_type": "code",
   "execution_count": 41,
   "metadata": {},
   "outputs": [
    {
     "data": {
      "image/png": "[encoded data removed]",
      "text/plain": [
       "<matplotlib.figure.Figure at 0x1a2b67c2e8>"
      ]
     },
     "metadata": {},
     "output_type": "display_data"
    }
   ],
   "source": [
    "testY=testY.reshape(-1,1)\n",
    "plt.figure(figsize=(10, 10))\n",
    "plt.plot(testPredict)\n",
    "plt.plot(testY)\n",
    "plt.title('Original data vs predicted data', fontsize=15)\n",
    "plt.show()"
   ]
  },
  {
   "cell_type": "code",
   "execution_count": 42,
   "metadata": {},
   "outputs": [],
   "source": [
    "values_date=dataframe['Date'][len(train)+9:].values"
   ]
  },
  {
   "cell_type": "code",
   "execution_count": 43,
   "metadata": {},
   "outputs": [],
   "source": [
    "predict_lowerdimen = testPredict.ravel()\n",
    "actual_lowerdimen=testY.ravel()"
   ]
  },
  {
   "cell_type": "code",
   "execution_count": 44,
   "metadata": {},
   "outputs": [],
   "source": [
    "train_final=[]\n",
    "for i in range(len(values_date)-1):\n",
    "    \n",
    "    train_final.append([predict_lowerdimen[i],actual_lowerdimen[i],values_date[i]])\n",
    "    \n",
    "    i=i+1\n",
    "    \n",
    "    \n",
    "    \n",
    "    "
   ]
  },
  {
   "cell_type": "code",
   "execution_count": 45,
   "metadata": {},
   "outputs": [],
   "source": [
    "numpy.savetxt('/Users/cherry/datasetamd1.csv',train_final,delimiter=',',fmt='%s')\n"
   ]
  },
  {
   "cell_type": "code",
   "execution_count": null,
   "metadata": {},
   "outputs": [],
   "source": []
  }
 ],
 "metadata": {
  "kernelspec": {
   "display_name": "Python 3",
   "language": "python",
   "name": "python3"
  },
  "language_info": {
   "codemirror_mode": {
    "name": "ipython",
    "version": 3
   },
   "file_extension": ".py",
   "mimetype": "text/x-python",
   "name": "python",
   "nbconvert_exporter": "python",
   "pygments_lexer": "ipython3",
   "version": "3.6.4"
  }
 },
 "nbformat": 4,
 "nbformat_minor": 2
}
